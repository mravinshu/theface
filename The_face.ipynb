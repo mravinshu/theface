{
  "nbformat": 4,
  "nbformat_minor": 0,
  "metadata": {
    "colab": {
      "name": "Untitled2.ipynb",
      "provenance": [],
      "authorship_tag": "ABX9TyN76YI4sBl64qEyGXiNFLlA"
    },
    "kernelspec": {
      "name": "python3",
      "display_name": "Python 3"
    },
    "language_info": {
      "name": "python"
    }
  },
  "cells": [
    {
      "cell_type": "code",
      "metadata": {
        "id": "BAPz3U9mXu3C"
      },
      "source": [
        "!git clone https://github.com/mravinshu/theface\n",
        "%cd theface"
      ],
      "execution_count": null,
      "outputs": []
    },
    {
      "cell_type": "code",
      "metadata": {
        "id": "j4etGC-jX1h2"
      },
      "source": [
        "import cv2\n",
        "from IPython.display import Image,Javascript,display\n",
        "import os\n",
        "from tensorflow.keras.preprocessing.image import img_to_array\n",
        "from tensorflow.keras.models import load_model\n",
        "from tensorflow.keras.applications.mobilenet_v2 import preprocess_input\n",
        "import numpy as np\n",
        "from google.colab.patches import cv2_imshow\n",
        "from google.colab.output import eval_js\n",
        "from base64 import b64decode\n",
        "\n",
        "def take_photo(filename='photo.jpg', quality=0.8):\n",
        "  js = Javascript('''\n",
        "    async function takePhoto(quality) {\n",
        "      const div = document.createElement('div');\n",
        "      const capture = document.createElement('button');\n",
        "      capture.textContent = 'Capture';\n",
        "      div.appendChild(capture);\n",
        "\n",
        "      const video = document.createElement('video');\n",
        "      video.style.display = 'block';\n",
        "      const stream = await navigator.mediaDevices.getUserMedia({video: true});\n",
        "\n",
        "      document.body.appendChild(div);\n",
        "      div.appendChild(video);\n",
        "      video.srcObject = stream;\n",
        "      await video.play();\n",
        "\n",
        "      google.colab.output.setIframeHeight(document.documentElement.scrollHeight, true);\n",
        "\n",
        "      await new Promise((resolve) => capture.onclick = resolve);\n",
        "\n",
        "      const canvas = document.createElement('canvas');\n",
        "      canvas.width = video.videoWidth;\n",
        "      canvas.height = video.videoHeight;\n",
        "      canvas.getContext('2d').drawImage(video, 0, 0);\n",
        "      stream.getVideoTracks()[0].stop();\n",
        "      div.remove();\n",
        "      return canvas.toDataURL('image/jpeg', quality);\n",
        "    }\n",
        "    ''')\n",
        "  display(js)\n",
        "  data = eval_js('takePhoto({})'.format(quality))\n",
        "  binary = b64decode(data.split(',')[1])\n",
        "  with open(filename, 'wb') as f:\n",
        "    f.write(binary)\n",
        "  return filename\n",
        "\n",
        "\n",
        "try:\n",
        "  filename = take_photo()\n",
        "  print('Saved to {}'.format(filename))\n",
        "except Exception as err:\n",
        "  print(str(err))\n",
        "\n",
        "faceCascade = cv2.CascadeClassifier(\"haarcascade_frontalface_alt2.xml\")\n",
        "model = load_model(\"mask_recog.h5\")\n",
        "\n",
        "def face_mask_detector(frame):\n",
        "  gray = cv2.cvtColor(frame, cv2.COLOR_BGR2GRAY)\n",
        "  faces = faceCascade.detectMultiScale(gray,\n",
        "                                        scaleFactor=1.1,\n",
        "                                        minNeighbors=5,\n",
        "                                        minSize=(60, 60),\n",
        "                                        flags=cv2.CASCADE_SCALE_IMAGE)\n",
        "  faces_list=[]\n",
        "  preds=[]\n",
        "  for (x, y, w, h) in faces:\n",
        "      face_frame = frame[y:y+h,x:x+w]\n",
        "      face_frame = cv2.cvtColor(face_frame, cv2.COLOR_BGR2RGB)\n",
        "      face_frame = cv2.resize(face_frame, (224, 224))\n",
        "      face_frame = img_to_array(face_frame)\n",
        "      face_frame = np.expand_dims(face_frame, axis=0)\n",
        "      face_frame =  preprocess_input(face_frame)\n",
        "      faces_list.append(face_frame)\n",
        "      if len(faces_list)>0:\n",
        "          preds = model.predict(faces_list)\n",
        "      for pred in preds:\n",
        "          (mask, withoutMask) = pred\n",
        "      label = \"Mask\" if mask > withoutMask else \"No Mask\"\n",
        "      color = (0, 255, 0) if label == \"Mask\" else (0, 0, 255)\n",
        "      label = \"{}: {:.2f}%\".format(label, max(mask, withoutMask) * 100)\n",
        "      cv2.putText(frame, label, (x, y- 10),\n",
        "                  cv2.FONT_HERSHEY_SIMPLEX, 1, color, 2)\n",
        "\n",
        "      cv2.rectangle(frame, (x, y), (x + w, y + h),color, 3)\n",
        "  return frame\n",
        "input_image = cv2.imread(\"photo.jpg\")\n",
        "output = face_mask_detector(input_image)\n",
        "cv2_imshow(output)"
      ],
      "execution_count": null,
      "outputs": []
    },
    {
      "cell_type": "code",
      "metadata": {
        "id": "06CWDK3feszs"
      },
      "source": [
        ""
      ],
      "execution_count": null,
      "outputs": []
    }
  ]
}